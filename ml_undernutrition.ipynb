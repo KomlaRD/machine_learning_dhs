{
 "cells": [
  {
   "cell_type": "code",
   "execution_count": 4,
   "metadata": {},
   "outputs": [],
   "source": [
    "# Load libraries\n",
    "import pandas as pd\n",
    "import numpy as np\n",
    "import matplotlib.pyplot as plt\n",
    "import seaborn as sns\n",
    "\n",
    "from sklearn.model_selection import train_test_split\n",
    "from category_encoders import OneHotEncoder\n",
    "from sklearn.linear_model import LogisticRegression, RidgeClassifier, Lasso\n",
    "from sklearn.discriminant_analysis import LinearDiscriminantAnalysis\n",
    "from sklearn.svm import SVC\n",
    "from sklearn.metrics import roc_curve, auc, classification_report, accuracy_score\n",
    "from sklearn.ensemble import RandomForestClassifier"
   ]
  },
  {
   "cell_type": "markdown",
   "metadata": {},
   "source": [
    "# Prepare Data\n",
    "\n",
    "## Import data"
   ]
  },
  {
   "cell_type": "code",
   "execution_count": 6,
   "metadata": {},
   "outputs": [],
   "source": [
    "df = pd.read_csv(\"data/df_clean.csv\")"
   ]
  },
  {
   "cell_type": "markdown",
   "metadata": {},
   "source": [
    "## Explore data"
   ]
  },
  {
   "cell_type": "code",
   "execution_count": 7,
   "metadata": {},
   "outputs": [
    {
     "name": "stdout",
     "output_type": "stream",
     "text": [
      "Dimensions of the dataframe\n",
      "(8591, 18)\n",
      "Information of dataset\n",
      "<class 'pandas.core.frame.DataFrame'>\n",
      "RangeIndex: 8591 entries, 0 to 8590\n",
      "Data columns (total 18 columns):\n",
      " #   Column                              Non-Null Count  Dtype  \n",
      "---  ------                              --------------  -----  \n",
      " 0   age_days                            8591 non-null   int64  \n",
      " 1   sex                                 8591 non-null   object \n",
      " 2   region                              8591 non-null   object \n",
      " 3   area                                8591 non-null   object \n",
      " 4   child_lenhei_cm                     8591 non-null   float64\n",
      " 5   child_weight_kg                     8591 non-null   float64\n",
      " 6   child_ill_cough_two_weeks           8591 non-null   object \n",
      " 7   child_ill_fever_two_weeks           8591 non-null   object \n",
      " 8   child_had_diarrhoea_last_two_weeks  8591 non-null   object \n",
      " 9   health_insurance                    8591 non-null   object \n",
      " 10  mother_educational_level            8591 non-null   object \n",
      " 11  ethnicity                           8591 non-null   object \n",
      " 12  child_under_five_sample_weight      8591 non-null   float64\n",
      " 13  combined_wealth_score               8591 non-null   float64\n",
      " 14  primary_sampling_unit               8591 non-null   int64  \n",
      " 15  underweight                         8591 non-null   object \n",
      " 16  wasting                             8591 non-null   object \n",
      " 17  stunting                            8591 non-null   object \n",
      "dtypes: float64(4), int64(2), object(12)\n",
      "memory usage: 1.2+ MB\n",
      "None\n",
      "The first five rows\n",
      "   age_days     sex   region   area  child_lenhei_cm  child_weight_kg  \\\n",
      "0       622    Male  Western  Rural             77.8              9.5   \n",
      "1       431  Female  Western  Rural             70.6              7.0   \n",
      "2      1295  Female  Western  Rural             95.3             11.9   \n",
      "3       532  Female  Western  Rural             78.6              9.8   \n",
      "4      1607    Male  Western  Rural            100.1             14.9   \n",
      "\n",
      "  child_ill_cough_two_weeks child_ill_fever_two_weeks  \\\n",
      "0                        No                        No   \n",
      "1                       Yes                        No   \n",
      "2                        No                       Yes   \n",
      "3                        No                       Yes   \n",
      "4                       Yes                        No   \n",
      "\n",
      "  child_had_diarrhoea_last_two_weeks   health_insurance  \\\n",
      "0                                 No     With insurance   \n",
      "1                                Yes  Without insurance   \n",
      "2                                 No  Without insurance   \n",
      "3                                 No  Without insurance   \n",
      "4                                 No     With insurance   \n",
      "\n",
      "  mother_educational_level ethnicity  child_under_five_sample_weight  \\\n",
      "0           Jss/jhs/middle      Akan                        0.388037   \n",
      "1                  Primary      Akan                        0.388037   \n",
      "2           Jss/jhs/middle      Akan                        1.517347   \n",
      "3           Jss/jhs/middle      Akan                        1.517347   \n",
      "4                  Primary      Akan                        0.388037   \n",
      "\n",
      "   combined_wealth_score  primary_sampling_unit  underweight wasting  stunting  \n",
      "0               0.153212                      1       Normal  Normal  Stunting  \n",
      "1              -0.068991                      1  Underweight  Normal  Stunting  \n",
      "2              -0.263641                      1       Normal  Normal    Normal  \n",
      "3              -0.263641                      1       Normal  Normal    Normal  \n",
      "4               0.087765                      1       Normal  Normal    Normal  \n"
     ]
    }
   ],
   "source": [
    "print(\"Dimensions of the dataframe\")\n",
    "print(df.shape)\n",
    "\n",
    "print(\"Information of dataset\")\n",
    "print(df.info())\n",
    "\n",
    "print(\"The first five rows\")\n",
    "print(df.head())"
   ]
  }
 ],
 "metadata": {
  "kernelspec": {
   "display_name": "ml_undernutrition",
   "language": "python",
   "name": "python3"
  },
  "language_info": {
   "codemirror_mode": {
    "name": "ipython",
    "version": 3
   },
   "file_extension": ".py",
   "mimetype": "text/x-python",
   "name": "python",
   "nbconvert_exporter": "python",
   "pygments_lexer": "ipython3",
   "version": "3.11.5"
  }
 },
 "nbformat": 4,
 "nbformat_minor": 2
}
