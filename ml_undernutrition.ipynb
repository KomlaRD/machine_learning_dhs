{
 "cells": [
  {
   "cell_type": "code",
   "execution_count": 55,
   "metadata": {},
   "outputs": [],
   "source": [
    "# Load libraries\n",
    "import pandas as pd\n",
    "import numpy as np\n",
    "import matplotlib.pyplot as plt\n",
    "import seaborn as sns\n",
    "\n",
    "from sklearn.model_selection import train_test_split\n",
    "from sklearn.preprocessing import StandardScaler, LabelEncoder\n",
    "from sklearn.compose import ColumnTransformer\n",
    "from category_encoders import OneHotEncoder\n",
    "from sklearn.linear_model import LogisticRegression, RidgeClassifier, Lasso\n",
    "from sklearn.discriminant_analysis import LinearDiscriminantAnalysis\n",
    "from sklearn.svm import SVC\n",
    "from sklearn.metrics import roc_curve, auc, classification_report, accuracy_score, ConfusionMatrixDisplay\n",
    "from sklearn.ensemble import RandomForestClassifier\n",
    "from xgboost import XGBClassifier\n",
    "from sklearn.pipeline import make_pipeline\n",
    "from imblearn.over_sampling import RandomOverSampler\n",
    "from imblearn.under_sampling import RandomUnderSampler"
   ]
  },
  {
   "cell_type": "markdown",
   "metadata": {},
   "source": [
    "# Prepare Data\n",
    "\n",
    "## Import data"
   ]
  },
  {
   "cell_type": "code",
   "execution_count": 3,
   "metadata": {},
   "outputs": [],
   "source": [
    "df = pd.read_csv(\"data/df_clean.csv\")"
   ]
  },
  {
   "cell_type": "markdown",
   "metadata": {},
   "source": [
    "## Explore data"
   ]
  },
  {
   "cell_type": "code",
   "execution_count": 4,
   "metadata": {},
   "outputs": [
    {
     "name": "stdout",
     "output_type": "stream",
     "text": [
      "Dimensions of the dataframe\n",
      "(8586, 19)\n",
      "Information of dataset\n",
      "<class 'pandas.core.frame.DataFrame'>\n",
      "RangeIndex: 8586 entries, 0 to 8585\n",
      "Data columns (total 19 columns):\n",
      " #   Column                              Non-Null Count  Dtype  \n",
      "---  ------                              --------------  -----  \n",
      " 0   age_days                            8586 non-null   int64  \n",
      " 1   sex                                 8586 non-null   object \n",
      " 2   region                              8586 non-null   object \n",
      " 3   area                                8586 non-null   object \n",
      " 4   child_lenhei_cm                     8586 non-null   float64\n",
      " 5   child_weight_kg                     8586 non-null   float64\n",
      " 6   child_ill_cough_two_weeks           8586 non-null   object \n",
      " 7   child_ill_fever_two_weeks           8586 non-null   object \n",
      " 8   child_had_diarrhoea_last_two_weeks  8586 non-null   object \n",
      " 9   health_insurance                    8586 non-null   object \n",
      " 10  mother_educational_level            8586 non-null   object \n",
      " 11  ethnicity                           8586 non-null   object \n",
      " 12  child_under_five_sample_weight      8586 non-null   float64\n",
      " 13  combined_wealth_score               8586 non-null   float64\n",
      " 14  primary_sampling_unit               8586 non-null   int64  \n",
      " 15  underweight                         8586 non-null   object \n",
      " 16  wasting                             8586 non-null   object \n",
      " 17  stunting                            8586 non-null   object \n",
      " 18  stratum                             8586 non-null   int64  \n",
      "dtypes: float64(4), int64(3), object(12)\n",
      "memory usage: 1.2+ MB\n",
      "None\n"
     ]
    }
   ],
   "source": [
    "print(\"Dimensions of the dataframe\")\n",
    "print(df.shape)\n",
    "\n",
    "print(\"Information of dataset\")\n",
    "print(df.info())"
   ]
  },
  {
   "cell_type": "code",
   "execution_count": 5,
   "metadata": {},
   "outputs": [
    {
     "name": "stdout",
     "output_type": "stream",
     "text": [
      "The first five rows\n",
      "   age_days     sex   region   area  child_lenhei_cm  child_weight_kg  \\\n",
      "0       622    Male  Western  Rural             77.8              9.5   \n",
      "1       431  Female  Western  Rural             70.6              7.0   \n",
      "2      1295  Female  Western  Rural             95.3             11.9   \n",
      "3       532  Female  Western  Rural             78.6              9.8   \n",
      "4      1607    Male  Western  Rural            100.1             14.9   \n",
      "\n",
      "  child_ill_cough_two_weeks child_ill_fever_two_weeks  \\\n",
      "0                        No                        No   \n",
      "1                       Yes                        No   \n",
      "2                        No                       Yes   \n",
      "3                        No                       Yes   \n",
      "4                       Yes                        No   \n",
      "\n",
      "  child_had_diarrhoea_last_two_weeks   health_insurance  \\\n",
      "0                                 No     With insurance   \n",
      "1                                Yes  Without insurance   \n",
      "2                                 No  Without insurance   \n",
      "3                                 No  Without insurance   \n",
      "4                                 No     With insurance   \n",
      "\n",
      "  mother_educational_level ethnicity  child_under_five_sample_weight  \\\n",
      "0           Jss/jhs/middle      Akan                        0.388037   \n",
      "1                  Primary      Akan                        0.388037   \n",
      "2           Jss/jhs/middle      Akan                        1.517347   \n",
      "3           Jss/jhs/middle      Akan                        1.517347   \n",
      "4                  Primary      Akan                        0.388037   \n",
      "\n",
      "   combined_wealth_score  primary_sampling_unit  underweight wasting  \\\n",
      "0               0.153212                      1       Normal  Normal   \n",
      "1              -0.068991                      1  Underweight  Normal   \n",
      "2              -0.263641                      1       Normal  Normal   \n",
      "3              -0.263641                      1       Normal  Normal   \n",
      "4               0.087765                      1       Normal  Normal   \n",
      "\n",
      "   stunting  stratum  \n",
      "0  Stunting       12  \n",
      "1  Stunting       12  \n",
      "2    Normal       12  \n",
      "3    Normal       12  \n",
      "4    Normal       12  \n"
     ]
    }
   ],
   "source": [
    "print(\"The first five rows\")\n",
    "print(df.head())"
   ]
  },
  {
   "cell_type": "code",
   "execution_count": 6,
   "metadata": {},
   "outputs": [
    {
     "name": "stdout",
     "output_type": "stream",
     "text": [
      "stunting\n",
      "Normal      0.82716\n",
      "Stunting    0.17284\n",
      "Name: proportion, dtype: float64\n"
     ]
    },
    {
     "data": {
      "image/png": "[encoded data removed]",
      "text/plain": [
       "<Figure size 640x480 with 1 Axes>"
      ]
     },
     "metadata": {},
     "output_type": "display_data"
    }
   ],
   "source": [
    "## Stunting\n",
    "print(df[\"stunting\"].value_counts(normalize=True))\n",
    "df[\"stunting\"].value_counts().plot(kind=\"bar\");"
   ]
  },
  {
   "cell_type": "code",
   "execution_count": 7,
   "metadata": {},
   "outputs": [
    {
     "name": "stdout",
     "output_type": "stream",
     "text": [
      "wasting\n",
      "Normal     0.930002\n",
      "Wasting    0.069998\n",
      "Name: proportion, dtype: float64\n"
     ]
    },
    {
     "data": {
      "image/png": "[encoded data removed]",
      "text/plain": [
       "<Figure size 640x480 with 1 Axes>"
      ]
     },
     "metadata": {},
     "output_type": "display_data"
    }
   ],
   "source": [
    "## Wasting\n",
    "print(df[\"wasting\"].value_counts(normalize=True))\n",
    "df[\"wasting\"].value_counts().plot(kind=\"bar\");"
   ]
  },
  {
   "cell_type": "code",
   "execution_count": 8,
   "metadata": {},
   "outputs": [
    {
     "name": "stdout",
     "output_type": "stream",
     "text": [
      "underweight\n",
      "Normal         0.877824\n",
      "Underweight    0.122176\n",
      "Name: proportion, dtype: float64\n"
     ]
    },
    {
     "data": {
      "image/png": "[encoded data removed]",
      "text/plain": [
       "<Figure size 640x480 with 1 Axes>"
      ]
     },
     "metadata": {},
     "output_type": "display_data"
    }
   ],
   "source": [
    "## Underweight\n",
    "print(df[\"underweight\"].value_counts(normalize=True))\n",
    "df[\"underweight\"].value_counts().plot(kind=\"bar\");"
   ]
  },
  {
   "cell_type": "code",
   "execution_count": 9,
   "metadata": {},
   "outputs": [
    {
     "data": {
      "image/png": "[encoded data removed]",
      "text/plain": [
       "<Figure size 640x480 with 2 Axes>"
      ]
     },
     "metadata": {},
     "output_type": "display_data"
    }
   ],
   "source": [
    "## Explore correlation of numeric variables\n",
    "corr = df.select_dtypes(\"number\").corr() # Find correlation of numeric variables\n",
    "sns.heatmap(corr); # Plot heatmap\n"
   ]
  },
  {
   "cell_type": "markdown",
   "metadata": {},
   "source": [
    "## Split data"
   ]
  },
  {
   "cell_type": "code",
   "execution_count": 72,
   "metadata": {},
   "outputs": [
    {
     "data": {
      "text/html": [
       "<div>\n",
       "<style scoped>\n",
       "    .dataframe tbody tr th:only-of-type {\n",
       "        vertical-align: middle;\n",
       "    }\n",
       "\n",
       "    .dataframe tbody tr th {\n",
       "        vertical-align: top;\n",
       "    }\n",
       "\n",
       "    .dataframe thead th {\n",
       "        text-align: right;\n",
       "    }\n",
       "</style>\n",
       "<table border=\"1\" class=\"dataframe\">\n",
       "  <thead>\n",
       "    <tr style=\"text-align: right;\">\n",
       "      <th></th>\n",
       "      <th>age_days</th>\n",
       "      <th>sex</th>\n",
       "      <th>region</th>\n",
       "      <th>area</th>\n",
       "      <th>child_lenhei_cm</th>\n",
       "      <th>child_weight_kg</th>\n",
       "      <th>child_ill_cough_two_weeks</th>\n",
       "      <th>child_ill_fever_two_weeks</th>\n",
       "      <th>child_had_diarrhoea_last_two_weeks</th>\n",
       "      <th>health_insurance</th>\n",
       "      <th>mother_educational_level</th>\n",
       "      <th>ethnicity</th>\n",
       "      <th>combined_wealth_score</th>\n",
       "    </tr>\n",
       "  </thead>\n",
       "  <tbody>\n",
       "    <tr>\n",
       "      <th>0</th>\n",
       "      <td>622</td>\n",
       "      <td>Male</td>\n",
       "      <td>Western</td>\n",
       "      <td>Rural</td>\n",
       "      <td>77.8</td>\n",
       "      <td>9.5</td>\n",
       "      <td>No</td>\n",
       "      <td>No</td>\n",
       "      <td>No</td>\n",
       "      <td>With insurance</td>\n",
       "      <td>Jss/jhs/middle</td>\n",
       "      <td>Akan</td>\n",
       "      <td>0.153212</td>\n",
       "    </tr>\n",
       "    <tr>\n",
       "      <th>1</th>\n",
       "      <td>431</td>\n",
       "      <td>Female</td>\n",
       "      <td>Western</td>\n",
       "      <td>Rural</td>\n",
       "      <td>70.6</td>\n",
       "      <td>7.0</td>\n",
       "      <td>Yes</td>\n",
       "      <td>No</td>\n",
       "      <td>Yes</td>\n",
       "      <td>Without insurance</td>\n",
       "      <td>Primary</td>\n",
       "      <td>Akan</td>\n",
       "      <td>-0.068991</td>\n",
       "    </tr>\n",
       "    <tr>\n",
       "      <th>2</th>\n",
       "      <td>1295</td>\n",
       "      <td>Female</td>\n",
       "      <td>Western</td>\n",
       "      <td>Rural</td>\n",
       "      <td>95.3</td>\n",
       "      <td>11.9</td>\n",
       "      <td>No</td>\n",
       "      <td>Yes</td>\n",
       "      <td>No</td>\n",
       "      <td>Without insurance</td>\n",
       "      <td>Jss/jhs/middle</td>\n",
       "      <td>Akan</td>\n",
       "      <td>-0.263641</td>\n",
       "    </tr>\n",
       "    <tr>\n",
       "      <th>3</th>\n",
       "      <td>532</td>\n",
       "      <td>Female</td>\n",
       "      <td>Western</td>\n",
       "      <td>Rural</td>\n",
       "      <td>78.6</td>\n",
       "      <td>9.8</td>\n",
       "      <td>No</td>\n",
       "      <td>Yes</td>\n",
       "      <td>No</td>\n",
       "      <td>Without insurance</td>\n",
       "      <td>Jss/jhs/middle</td>\n",
       "      <td>Akan</td>\n",
       "      <td>-0.263641</td>\n",
       "    </tr>\n",
       "    <tr>\n",
       "      <th>4</th>\n",
       "      <td>1607</td>\n",
       "      <td>Male</td>\n",
       "      <td>Western</td>\n",
       "      <td>Rural</td>\n",
       "      <td>100.1</td>\n",
       "      <td>14.9</td>\n",
       "      <td>Yes</td>\n",
       "      <td>No</td>\n",
       "      <td>No</td>\n",
       "      <td>With insurance</td>\n",
       "      <td>Primary</td>\n",
       "      <td>Akan</td>\n",
       "      <td>0.087765</td>\n",
       "    </tr>\n",
       "  </tbody>\n",
       "</table>\n",
       "</div>"
      ],
      "text/plain": [
       "   age_days     sex   region   area  child_lenhei_cm  child_weight_kg  \\\n",
       "0       622    Male  Western  Rural             77.8              9.5   \n",
       "1       431  Female  Western  Rural             70.6              7.0   \n",
       "2      1295  Female  Western  Rural             95.3             11.9   \n",
       "3       532  Female  Western  Rural             78.6              9.8   \n",
       "4      1607    Male  Western  Rural            100.1             14.9   \n",
       "\n",
       "  child_ill_cough_two_weeks child_ill_fever_two_weeks  \\\n",
       "0                        No                        No   \n",
       "1                       Yes                        No   \n",
       "2                        No                       Yes   \n",
       "3                        No                       Yes   \n",
       "4                       Yes                        No   \n",
       "\n",
       "  child_had_diarrhoea_last_two_weeks   health_insurance  \\\n",
       "0                                 No     With insurance   \n",
       "1                                Yes  Without insurance   \n",
       "2                                 No  Without insurance   \n",
       "3                                 No  Without insurance   \n",
       "4                                 No     With insurance   \n",
       "\n",
       "  mother_educational_level ethnicity  combined_wealth_score  \n",
       "0           Jss/jhs/middle      Akan               0.153212  \n",
       "1                  Primary      Akan              -0.068991  \n",
       "2           Jss/jhs/middle      Akan              -0.263641  \n",
       "3           Jss/jhs/middle      Akan              -0.263641  \n",
       "4                  Primary      Akan               0.087765  "
      ]
     },
     "execution_count": 72,
     "metadata": {},
     "output_type": "execute_result"
    }
   ],
   "source": [
    "# s: stunting; u: underweight; w: wasting\n",
    "# Encode categorical features\n",
    "le = LabelEncoder()\n",
    "\n",
    "# Create feature matrix and target vectors\n",
    "target_s = \"stunting\"\n",
    "target_u = \"underweight\"\n",
    "target_w = \"wasting\"\n",
    "\n",
    "# Create target vector for each nutritional indicator\n",
    "y_s = df[target_s]\n",
    "y_s_encoded = le.fit_transform(y_s) # Encode target variable for stunting\n",
    "y_s_encoded = pd.Series(y_s_encoded) # Convert np.array to pd.Series\n",
    "\n",
    "## Underweight \n",
    "y_u = df[target_u]\n",
    "y_u_encoded = le.fit_transform(y_u) # Encode target variable for underweight\n",
    "y_u_encoded = pd.Series(y_u_encoded)  # Convert np.array to pd.Series\n",
    "\n",
    "## Wasting\n",
    "y_w = df[target_w]\n",
    "y_w_encoded = le.fit_transform(y_w) # Encode target variable for wasting\n",
    "y_w_encoded = pd.Series(y_w_encoded)  # Convert np.array to pd.Series\n",
    "\n",
    "# Features\n",
    "X = df.drop(columns=[target_s, target_u, target_w, \"primary_sampling_unit\", \"stratum\", \"child_under_five_sample_weight\"])\n",
    "X.head()"
   ]
  },
  {
   "cell_type": "code",
   "execution_count": 74,
   "metadata": {},
   "outputs": [
    {
     "name": "stdout",
     "output_type": "stream",
     "text": [
      "0    Stunting\n",
      "1    Stunting\n",
      "2      Normal\n",
      "3      Normal\n",
      "4      Normal\n",
      "Name: stunting, dtype: object\n",
      "0         Normal\n",
      "1    Underweight\n",
      "2         Normal\n",
      "3         Normal\n",
      "4         Normal\n",
      "Name: underweight, dtype: object\n",
      "0    Normal\n",
      "1    Normal\n",
      "2    Normal\n",
      "3    Normal\n",
      "4    Normal\n",
      "Name: wasting, dtype: object\n"
     ]
    }
   ],
   "source": [
    "# View head of target vectors\n",
    "print(y_s.head()) # Stunting\n",
    "print(y_u.head()) # Underweight\n",
    "print(y_w.head()) # Wasting"
   ]
  },
  {
   "cell_type": "code",
   "execution_count": 75,
   "metadata": {},
   "outputs": [
    {
     "name": "stdout",
     "output_type": "stream",
     "text": [
      "(6010, 13) (2576, 13) (6010,) (2576,)\n",
      "(6010, 13) (2576, 13) (6010,) (2576,)\n",
      "(6010, 13) (2576, 13) (6010,) (2576,)\n"
     ]
    }
   ],
   "source": [
    "# Split data into training and test data\n",
    "\n",
    "## Stunting\n",
    "X_train_s, X_test_s, y_train_s, y_test_s = train_test_split(X, y_s_encoded, test_size=0.3, random_state=42)\n",
    "\n",
    "## Underweight\n",
    "X_train_u, X_test_u, y_train_u, y_test_u = train_test_split(X, y_u_encoded, test_size=0.3, random_state=42)\n",
    "\n",
    "## Wasting\n",
    "X_train_w, X_test_w, y_train_w, y_test_w = train_test_split(X, y_w_encoded, test_size=0.3, random_state=42)\n",
    "\n",
    "## Print dimensions of stunting split\n",
    "print(X_train_s.shape, X_test_s.shape, y_train_s.shape, y_test_s.shape)\n",
    "\n",
    "# Print dimensions of underweight split\n",
    "print(X_train_u.shape, X_test_u.shape, y_train_u.shape, y_test_u.shape)\n",
    "\n",
    "# Print dimensions of wasting split\n",
    "print(X_train_w.shape, X_test_w.shape, y_train_w.shape, y_test_w.shape)"
   ]
  },
  {
   "cell_type": "markdown",
   "metadata": {},
   "source": [
    "# Build model\n",
    "\n",
    "## Baseline model"
   ]
  },
  {
   "cell_type": "code",
   "execution_count": 76,
   "metadata": {},
   "outputs": [
    {
     "name": "stdout",
     "output_type": "stream",
     "text": [
      "Baseline accuracy for stunting is: 0.8299500831946756\n",
      "Baseline accuracy for underweight is: 0.8810316139767055\n",
      "Baseline accuracy for wasting is: 0.9287853577371048\n"
     ]
    }
   ],
   "source": [
    "# Stunting\n",
    "baseline_s = y_train_s.value_counts(normalize=True).max()\n",
    "print(f\"Baseline accuracy for stunting is: {baseline_s}\")\n",
    "\n",
    "# Underweight\n",
    "baseline_u = y_train_u.value_counts(normalize=True).max()\n",
    "print(f\"Baseline accuracy for underweight is: {baseline_u}\")\n",
    "\n",
    "# Wasting\n",
    "baseline_w = y_train_w.value_counts(normalize=True).max()\n",
    "print(f\"Baseline accuracy for wasting is: {baseline_w}\")"
   ]
  },
  {
   "cell_type": "markdown",
   "metadata": {},
   "source": [
    "## Iterate"
   ]
  },
  {
   "cell_type": "code",
   "execution_count": 77,
   "metadata": {},
   "outputs": [],
   "source": [
    "# Initialise models\n",
    "\n",
    "\n",
    "# Numeric features\n",
    "numeric_features = [\"age_days\",  \n",
    "                    \"child_lenhei_cm\",\n",
    "                    \"child_weight_kg\",  \n",
    "                    \"combined_wealth_score\"]\n",
    "\n",
    "# Categorical features\n",
    "categorical_features = [\n",
    "    \"sex\",\n",
    "    \"region\",\n",
    "    \"area\",\n",
    "    \"child_ill_cough_two_weeks\",\n",
    "    \"child_ill_fever_two_weeks\",\n",
    "    \"child_had_diarrhoea_last_two_weeks\",\n",
    "    \"health_insurance\",\n",
    "    \"mother_educational_level\",\n",
    "    \"ethnicity\"\n",
    "]\n",
    "\n",
    "# Create transformers for numeric and categorical features\n",
    "preprocessor = ColumnTransformer(\n",
    "    transformers=[\n",
    "        ('num', StandardScaler(), numeric_features),\n",
    "        ('cat', OneHotEncoder(), categorical_features)\n",
    "    ]\n",
    ")\n",
    "\n",
    "## Logistic regression\n",
    "lr = make_pipeline(\n",
    "    preprocessor,\n",
    "    LogisticRegression(random_state=42, max_iter=1000)\n",
    ")\n",
    "\n",
    "## Linear Discriminant Analysis\n",
    "lda = make_pipeline(\n",
    "                    OneHotEncoder(use_cat_names=True),\n",
    "                    LinearDiscriminantAnalysis()\n",
    ")\n",
    "\n",
    "## Ridge Classifier\n",
    "rr = make_pipeline(\n",
    "    preprocessor,\n",
    "                   RidgeClassifier(random_state=42)\n",
    ")\n",
    "\n",
    "\n",
    "\n",
    "## Support Vector Machines\n",
    "svm = make_pipeline(\n",
    "    preprocessor,\n",
    "                    SVC(random_state=42)\n",
    ")\n",
    "\n",
    "## Random Forest\n",
    "rf = make_pipeline(\n",
    "    OneHotEncoder(),\n",
    "    RandomForestClassifier(random_state=42),\n",
    ")\n",
    "\n",
    "## XGBoost\n",
    "xgb  = make_pipeline(\n",
    "    OneHotEncoder(use_cat_names=True),\n",
    "    XGBClassifier(random_state=42)\n",
    ")"
   ]
  },
  {
   "cell_type": "markdown",
   "metadata": {},
   "source": [
    "### Modeling: Stunting"
   ]
  },
  {
   "cell_type": "code",
   "execution_count": 78,
   "metadata": {},
   "outputs": [
    {
     "data": {
      "text/html": [
       "<style>#sk-container-id-5 {color: black;background-color: white;}#sk-container-id-5 pre{padding: 0;}#sk-container-id-5 div.sk-toggleable {background-color: white;}#sk-container-id-5 label.sk-toggleable__label {cursor: pointer;display: block;width: 100%;margin-bottom: 0;padding: 0.3em;box-sizing: border-box;text-align: center;}#sk-container-id-5 label.sk-toggleable__label-arrow:before {content: \"▸\";float: left;margin-right: 0.25em;color: #696969;}#sk-container-id-5 label.sk-toggleable__label-arrow:hover:before {color: black;}#sk-container-id-5 div.sk-estimator:hover label.sk-toggleable__label-arrow:before {color: black;}#sk-container-id-5 div.sk-toggleable__content {max-height: 0;max-width: 0;overflow: hidden;text-align: left;background-color: #f0f8ff;}#sk-container-id-5 div.sk-toggleable__content pre {margin: 0.2em;color: black;border-radius: 0.25em;background-color: #f0f8ff;}#sk-container-id-5 input.sk-toggleable__control:checked~div.sk-toggleable__content {max-height: 200px;max-width: 100%;overflow: auto;}#sk-container-id-5 input.sk-toggleable__control:checked~label.sk-toggleable__label-arrow:before {content: \"▾\";}#sk-container-id-5 div.sk-estimator input.sk-toggleable__control:checked~label.sk-toggleable__label {background-color: #d4ebff;}#sk-container-id-5 div.sk-label input.sk-toggleable__control:checked~label.sk-toggleable__label {background-color: #d4ebff;}#sk-container-id-5 input.sk-hidden--visually {border: 0;clip: rect(1px 1px 1px 1px);clip: rect(1px, 1px, 1px, 1px);height: 1px;margin: -1px;overflow: hidden;padding: 0;position: absolute;width: 1px;}#sk-container-id-5 div.sk-estimator {font-family: monospace;background-color: #f0f8ff;border: 1px dotted black;border-radius: 0.25em;box-sizing: border-box;margin-bottom: 0.5em;}#sk-container-id-5 div.sk-estimator:hover {background-color: #d4ebff;}#sk-container-id-5 div.sk-parallel-item::after {content: \"\";width: 100%;border-bottom: 1px solid gray;flex-grow: 1;}#sk-container-id-5 div.sk-label:hover label.sk-toggleable__label {background-color: #d4ebff;}#sk-container-id-5 div.sk-serial::before {content: \"\";position: absolute;border-left: 1px solid gray;box-sizing: border-box;top: 0;bottom: 0;left: 50%;z-index: 0;}#sk-container-id-5 div.sk-serial {display: flex;flex-direction: column;align-items: center;background-color: white;padding-right: 0.2em;padding-left: 0.2em;position: relative;}#sk-container-id-5 div.sk-item {position: relative;z-index: 1;}#sk-container-id-5 div.sk-parallel {display: flex;align-items: stretch;justify-content: center;background-color: white;position: relative;}#sk-container-id-5 div.sk-item::before, #sk-container-id-5 div.sk-parallel-item::before {content: \"\";position: absolute;border-left: 1px solid gray;box-sizing: border-box;top: 0;bottom: 0;left: 50%;z-index: -1;}#sk-container-id-5 div.sk-parallel-item {display: flex;flex-direction: column;z-index: 1;position: relative;background-color: white;}#sk-container-id-5 div.sk-parallel-item:first-child::after {align-self: flex-end;width: 50%;}#sk-container-id-5 div.sk-parallel-item:last-child::after {align-self: flex-start;width: 50%;}#sk-container-id-5 div.sk-parallel-item:only-child::after {width: 0;}#sk-container-id-5 div.sk-dashed-wrapped {border: 1px dashed gray;margin: 0 0.4em 0.5em 0.4em;box-sizing: border-box;padding-bottom: 0.4em;background-color: white;}#sk-container-id-5 div.sk-label label {font-family: monospace;font-weight: bold;display: inline-block;line-height: 1.2em;}#sk-container-id-5 div.sk-label-container {text-align: center;}#sk-container-id-5 div.sk-container {/* jupyter's `normalize.less` sets `[hidden] { display: none; }` but bootstrap.min.css set `[hidden] { display: none !important; }` so we also need the `!important` here to be able to override the default hidden behavior on the sphinx rendered scikit-learn.org. See: https://github.com/scikit-learn/scikit-learn/issues/21755 */display: inline-block !important;position: relative;}#sk-container-id-5 div.sk-text-repr-fallback {display: none;}</style><div id=\"sk-container-id-5\" class=\"sk-top-container\"><div class=\"sk-text-repr-fallback\"><pre>Pipeline(steps=[(&#x27;onehotencoder&#x27;,\n",
       "                 OneHotEncoder(cols=[&#x27;sex&#x27;, &#x27;region&#x27;, &#x27;area&#x27;,\n",
       "                                     &#x27;child_ill_cough_two_weeks&#x27;,\n",
       "                                     &#x27;child_ill_fever_two_weeks&#x27;,\n",
       "                                     &#x27;child_had_diarrhoea_last_two_weeks&#x27;,\n",
       "                                     &#x27;health_insurance&#x27;,\n",
       "                                     &#x27;mother_educational_level&#x27;, &#x27;ethnicity&#x27;],\n",
       "                               use_cat_names=True)),\n",
       "                (&#x27;xgbclassifier&#x27;,\n",
       "                 XGBClassifier(base_score=None, booster=None, callbacks=None,\n",
       "                               colsample_bylevel=None, cols...\n",
       "                               feature_types=None, gamma=None, grow_policy=None,\n",
       "                               importance_type=None,\n",
       "                               interaction_constraints=None, learning_rate=None,\n",
       "                               max_bin=None, max_cat_threshold=None,\n",
       "                               max_cat_to_onehot=None, max_delta_step=None,\n",
       "                               max_depth=None, max_leaves=None,\n",
       "                               min_child_weight=None, missing=nan,\n",
       "                               monotone_constraints=None, multi_strategy=None,\n",
       "                               n_estimators=None, n_jobs=None,\n",
       "                               num_parallel_tree=None, random_state=42, ...))])</pre><b>In a Jupyter environment, please rerun this cell to show the HTML representation or trust the notebook. <br />On GitHub, the HTML representation is unable to render, please try loading this page with nbviewer.org.</b></div><div class=\"sk-container\" hidden><div class=\"sk-item sk-dashed-wrapped\"><div class=\"sk-label-container\"><div class=\"sk-label sk-toggleable\"><input class=\"sk-toggleable__control sk-hidden--visually\" id=\"sk-estimator-id-15\" type=\"checkbox\" ><label for=\"sk-estimator-id-15\" class=\"sk-toggleable__label sk-toggleable__label-arrow\">Pipeline</label><div class=\"sk-toggleable__content\"><pre>Pipeline(steps=[(&#x27;onehotencoder&#x27;,\n",
       "                 OneHotEncoder(cols=[&#x27;sex&#x27;, &#x27;region&#x27;, &#x27;area&#x27;,\n",
       "                                     &#x27;child_ill_cough_two_weeks&#x27;,\n",
       "                                     &#x27;child_ill_fever_two_weeks&#x27;,\n",
       "                                     &#x27;child_had_diarrhoea_last_two_weeks&#x27;,\n",
       "                                     &#x27;health_insurance&#x27;,\n",
       "                                     &#x27;mother_educational_level&#x27;, &#x27;ethnicity&#x27;],\n",
       "                               use_cat_names=True)),\n",
       "                (&#x27;xgbclassifier&#x27;,\n",
       "                 XGBClassifier(base_score=None, booster=None, callbacks=None,\n",
       "                               colsample_bylevel=None, cols...\n",
       "                               feature_types=None, gamma=None, grow_policy=None,\n",
       "                               importance_type=None,\n",
       "                               interaction_constraints=None, learning_rate=None,\n",
       "                               max_bin=None, max_cat_threshold=None,\n",
       "                               max_cat_to_onehot=None, max_delta_step=None,\n",
       "                               max_depth=None, max_leaves=None,\n",
       "                               min_child_weight=None, missing=nan,\n",
       "                               monotone_constraints=None, multi_strategy=None,\n",
       "                               n_estimators=None, n_jobs=None,\n",
       "                               num_parallel_tree=None, random_state=42, ...))])</pre></div></div></div><div class=\"sk-serial\"><div class=\"sk-item\"><div class=\"sk-estimator sk-toggleable\"><input class=\"sk-toggleable__control sk-hidden--visually\" id=\"sk-estimator-id-16\" type=\"checkbox\" ><label for=\"sk-estimator-id-16\" class=\"sk-toggleable__label sk-toggleable__label-arrow\">OneHotEncoder</label><div class=\"sk-toggleable__content\"><pre>OneHotEncoder(cols=[&#x27;sex&#x27;, &#x27;region&#x27;, &#x27;area&#x27;, &#x27;child_ill_cough_two_weeks&#x27;,\n",
       "                    &#x27;child_ill_fever_two_weeks&#x27;,\n",
       "                    &#x27;child_had_diarrhoea_last_two_weeks&#x27;, &#x27;health_insurance&#x27;,\n",
       "                    &#x27;mother_educational_level&#x27;, &#x27;ethnicity&#x27;],\n",
       "              use_cat_names=True)</pre></div></div></div><div class=\"sk-item\"><div class=\"sk-estimator sk-toggleable\"><input class=\"sk-toggleable__control sk-hidden--visually\" id=\"sk-estimator-id-17\" type=\"checkbox\" ><label for=\"sk-estimator-id-17\" class=\"sk-toggleable__label sk-toggleable__label-arrow\">XGBClassifier</label><div class=\"sk-toggleable__content\"><pre>XGBClassifier(base_score=None, booster=None, callbacks=None,\n",
       "              colsample_bylevel=None, colsample_bynode=None,\n",
       "              colsample_bytree=None, device=None, early_stopping_rounds=None,\n",
       "              enable_categorical=False, eval_metric=None, feature_types=None,\n",
       "              gamma=None, grow_policy=None, importance_type=None,\n",
       "              interaction_constraints=None, learning_rate=None, max_bin=None,\n",
       "              max_cat_threshold=None, max_cat_to_onehot=None,\n",
       "              max_delta_step=None, max_depth=None, max_leaves=None,\n",
       "              min_child_weight=None, missing=nan, monotone_constraints=None,\n",
       "              multi_strategy=None, n_estimators=None, n_jobs=None,\n",
       "              num_parallel_tree=None, random_state=42, ...)</pre></div></div></div></div></div></div></div>"
      ],
      "text/plain": [
       "Pipeline(steps=[('onehotencoder',\n",
       "                 OneHotEncoder(cols=['sex', 'region', 'area',\n",
       "                                     'child_ill_cough_two_weeks',\n",
       "                                     'child_ill_fever_two_weeks',\n",
       "                                     'child_had_diarrhoea_last_two_weeks',\n",
       "                                     'health_insurance',\n",
       "                                     'mother_educational_level', 'ethnicity'],\n",
       "                               use_cat_names=True)),\n",
       "                ('xgbclassifier',\n",
       "                 XGBClassifier(base_score=None, booster=None, callbacks=None,\n",
       "                               colsample_bylevel=None, cols...\n",
       "                               feature_types=None, gamma=None, grow_policy=None,\n",
       "                               importance_type=None,\n",
       "                               interaction_constraints=None, learning_rate=None,\n",
       "                               max_bin=None, max_cat_threshold=None,\n",
       "                               max_cat_to_onehot=None, max_delta_step=None,\n",
       "                               max_depth=None, max_leaves=None,\n",
       "                               min_child_weight=None, missing=nan,\n",
       "                               monotone_constraints=None, multi_strategy=None,\n",
       "                               n_estimators=None, n_jobs=None,\n",
       "                               num_parallel_tree=None, random_state=42, ...))])"
      ]
     },
     "execution_count": 78,
     "metadata": {},
     "output_type": "execute_result"
    }
   ],
   "source": [
    "# Logistic Regression\n",
    "lr.fit(X_train_s, y_train_s)\n",
    "\n",
    "# Linear Discriminant Analysis\n",
    "lda.fit(X_train_s, y_train_s)\n",
    "\n",
    "# Ridge Classifier\n",
    "rr.fit(X_train_s, y_train_s)\n",
    "\n",
    "# Support Vector Machines\n",
    "svm.fit(X_train_s, y_train_s)\n",
    "\n",
    "# Random Forest \n",
    "rf.fit(X_train_s, y_train_s)\n",
    "\n",
    "# XGB\n",
    "xgb.fit(X_train_s, y_train_s)"
   ]
  },
  {
   "cell_type": "code",
   "execution_count": 81,
   "metadata": {},
   "outputs": [
    {
     "name": "stdout",
     "output_type": "stream",
     "text": [
      "Accuracy of logistic regression: 0.8667221297836939\n",
      "Accuracy of LDA: 0.8660565723793677\n",
      "Accuracy of Ridge classifier: 0.8667221297836939\n",
      "Accuracy of Support Vector Machines: 0.9540765391014975\n",
      "Accuracy of Random Forest Classifier: 1.0\n",
      "Accuracy of Extreme Gradient Boosting: 1.0\n"
     ]
    }
   ],
   "source": [
    "# Evaluate models on training dataset\n",
    "## Logistic Regression\n",
    "y_train_pred_lr = lr.predict(X_train_s)\n",
    "accuracy_lr = accuracy_score(y_train_s, y_train_pred_lr)\n",
    "print(\"Accuracy of logistic regression:\", accuracy_lr)\n",
    "\n",
    "\n",
    "# LDA\n",
    "y_train_pred_lda = lda.predict(X_train_s)\n",
    "accuracy_lda = accuracy_score(y_train_s, y_train_pred_lda)\n",
    "print(\"Accuracy of LDA:\", accuracy_lda)\n",
    "\n",
    "\n",
    "# Ridge classifier\n",
    "y_train_pred_rr = rr.predict(X_train_s)\n",
    "accuracy_rr = accuracy_score(y_train_s, y_train_pred_rr)\n",
    "print(\"Accuracy of Ridge classifier:\", accuracy_lr)\n",
    "\n",
    "# Support Vector Machine\n",
    "y_train_pred_svm = svm.predict(X_train_s)\n",
    "accuracy_svm = accuracy_score(y_train_s, y_train_pred_svm)\n",
    "print(\"Accuracy of Support Vector Machines:\", accuracy_svm)\n",
    "\n",
    "# Random Forest Classifier\n",
    "y_train_pred_rf = rf.predict(X_train_s)\n",
    "accuracy_rf = accuracy_score(y_train_s, y_train_pred_rf)\n",
    "print(\"Accuracy of Random Forest Classifier:\", accuracy_rf)\n",
    "\n",
    "# XGB\n",
    "y_train_pred_xgb = xgb.predict(X_train_s)\n",
    "accuracy_xgb = accuracy_score(y_train_s, y_train_pred_xgb)\n",
    "print(\"Accuracy of Extreme Gradient Boosting:\", accuracy_xgb)"
   ]
  },
  {
   "cell_type": "markdown",
   "metadata": {},
   "source": [
    "## Evaluate"
   ]
  },
  {
   "cell_type": "code",
   "execution_count": null,
   "metadata": {},
   "outputs": [],
   "source": []
  }
 ],
 "metadata": {
  "kernelspec": {
   "display_name": "ml_undernutrition",
   "language": "python",
   "name": "python3"
  },
  "language_info": {
   "codemirror_mode": {
    "name": "ipython",
    "version": 3
   },
   "file_extension": ".py",
   "mimetype": "text/x-python",
   "name": "python",
   "nbconvert_exporter": "python",
   "pygments_lexer": "ipython3",
   "version": "3.11.5"
  }
 },
 "nbformat": 4,
 "nbformat_minor": 2
}
